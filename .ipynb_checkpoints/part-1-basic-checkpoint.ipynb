{
 "cells": [
  {
   "cell_type": "markdown",
   "id": "d4dfe735",
   "metadata": {},
   "source": [
    "# Markdown cells\n",
    "#### Used for documentation in jupyter notebook\n",
    "\n",
    "#- This denotes the size of the header\n",
    "    #-H1\n",
    "    ##-H2\n",
    "    ....\n",
    "    ######-H6\n",
    "    #######-Normal Text"
   ]
  },
  {
   "cell_type": "code",
   "execution_count": 1,
   "id": "c5b732d1",
   "metadata": {},
   "outputs": [
    {
     "name": "stdout",
     "output_type": "stream",
     "text": [
      "This is how you print words\n"
     ]
    }
   ],
   "source": [
    "#This is a code cell\n",
    "#Here we write code\n",
    "print(\"This is how you print words\")"
   ]
  },
  {
   "cell_type": "markdown",
   "id": "a266a8a9",
   "metadata": {},
   "source": [
    "You can write your code in the code cells. To run the code, select the cell and either\n",
    "\n",
    ".Hold the shift-key down and hit 'enter' or 'return'\n",
    ".Click the 'run' arrow above"
   ]
  },
  {
   "cell_type": "code",
   "execution_count": 3,
   "id": "abeabfce",
   "metadata": {},
   "outputs": [
    {
     "name": "stdout",
     "output_type": "stream",
     "text": [
      "f strings allow you to embed variables right in the strings!\n"
     ]
    }
   ],
   "source": [
    "# print statements\n",
    "variable = \"right in the strings!\"\n",
    "print(f\"f strings allow you to embed variables {variable}\")"
   ]
  },
  {
   "cell_type": "code",
   "execution_count": 1,
   "id": "60cb470d",
   "metadata": {},
   "outputs": [
    {
     "name": "stdout",
     "output_type": "stream",
     "text": [
      "Hi my name is Kristina Ghimire and I am studying computer engineering in Thapathali Campus\n"
     ]
    }
   ],
   "source": [
    "#More use of f strings\n",
    "name = \"Kristina Ghimire\"\n",
    "college = \"Thapathali Campus\"\n",
    "print(f\"Hi my name is {name} and I am studying computer engineering in {college}\")"
   ]
  },
  {
   "cell_type": "code",
   "execution_count": null,
   "id": "b802d3e8",
   "metadata": {},
   "outputs": [],
   "source": []
  }
 ],
 "metadata": {
  "kernelspec": {
   "display_name": "Python 3 (ipykernel)",
   "language": "python",
   "name": "python3"
  },
  "language_info": {
   "codemirror_mode": {
    "name": "ipython",
    "version": 3
   },
   "file_extension": ".py",
   "mimetype": "text/x-python",
   "name": "python",
   "nbconvert_exporter": "python",
   "pygments_lexer": "ipython3",
   "version": "3.10.6"
  }
 },
 "nbformat": 4,
 "nbformat_minor": 5
}
